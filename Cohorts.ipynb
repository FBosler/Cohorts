{
 "cells": [
  {
   "cell_type": "code",
   "execution_count": 2,
   "metadata": {},
   "outputs": [],
   "source": [
    "import pandas as pd\n",
    "import numpy as np\n",
    "import datetime\n",
    "import string\n",
    "import names\n",
    "import matplotlib.pyplot as plt\n",
    "import seaborn as sns"
   ]
  },
  {
   "cell_type": "code",
   "execution_count": 3,
   "metadata": {},
   "outputs": [],
   "source": [
    "ADJECTIVES = [\n",
    "    'cool','smart','beautiful','funky','dorky', 'babyish', 'back', 'bad', 'baggy', 'bare', 'barren', 'dorky', 'bad'\n",
    "    'calculating', 'calm', 'candid', 'canine', 'capital', 'carefree', 'hairy', 'half', 'handmade', 'handsome', 'handy',\n",
    "    'crazy', 'deliberate'\n",
    "]\n",
    "\n",
    "PEOPLE = [\n",
    "    names.get_first_name().lower() for i in range(1000)\n",
    "]\n",
    "\n",
    "PRODUCTS = [\n",
    "    'airplane','banana','train','bow','map','skull'\n",
    "]"
   ]
  },
  {
   "cell_type": "code",
   "execution_count": 4,
   "metadata": {},
   "outputs": [],
   "source": [
    "def name_generator(adj,sub,number_names=10):\n",
    "    if number_names >= len(adj)*len(sub):\n",
    "        raise ValueError(\"can't generate this many names\")\n",
    "    res = set()\n",
    "    while len(res) < number_names+1:\n",
    "        new_name = f'{np.random.choice(adj)}_{np.random.choice(sub)}'\n",
    "        res = res | set([new_name])\n",
    "    return list(res)"
   ]
  },
  {
   "cell_type": "code",
   "execution_count": 5,
   "metadata": {},
   "outputs": [],
   "source": [
    "def generate_order_id(size=16, chars=list(string.ascii_uppercase + string.digits)):\n",
    "    return ''.join(np.random.choice(chars) for _ in range(size))"
   ]
  },
  {
   "cell_type": "code",
   "execution_count": 6,
   "metadata": {},
   "outputs": [],
   "source": [
    "def generate_dummy_data(\n",
    "    dummy_products,\n",
    "    dummy_customers,\n",
    "    dummy_customer_types = ['company','private','government'],\n",
    "    first_date=datetime.datetime(2014,1,1),\n",
    "    last_date=datetime.datetime(2018,1,1),\n",
    "    data_points=1000):\n",
    "    \n",
    "    customer_type = {customer:np.random.choice(['company','private','government']) for customer in dummy_customers}\n",
    "    product_prices = {product:np.random.randint(100,10000) for product in dummy_products}\n",
    "\n",
    "    df = pd.DataFrame({\n",
    "        'order_id' : [generate_order_id() for i in range(data_points)],\n",
    "        'order_date' : [np.random.choice(pd.date_range(first_date,last_date)) for i in range(data_points)],\n",
    "        'customer' : [np.random.choice(customers) for i in range(data_points)],\n",
    "        'product' : [np.random.choice(products) for i in range(data_points)],\n",
    "        'order_size': [np.random.randint(1,5) for i in range(data_points)]\n",
    "    })\n",
    "    df['customer_type'] = df['customer'].map(customer_type)\n",
    "    df['product_price'] = df['product'].map(product_prices)\n",
    "    df['basket_size'] = df['order_size']*df['product_price']\n",
    "    \n",
    "    return df"
   ]
  },
  {
   "cell_type": "code",
   "execution_count": 7,
   "metadata": {},
   "outputs": [],
   "source": [
    "customers = name_generator(ADJECTIVES,PEOPLE,2000)\n",
    "products = name_generator(ADJECTIVES, PRODUCTS, 10)"
   ]
  },
  {
   "cell_type": "code",
   "execution_count": 8,
   "metadata": {},
   "outputs": [
    {
     "data": {
      "text/plain": [
       "['bad_bow', 'half_bow', 'capital_map', 'babyish_skull', 'handsome_map']"
      ]
     },
     "execution_count": 8,
     "metadata": {},
     "output_type": "execute_result"
    }
   ],
   "source": [
    "products[:5]"
   ]
  },
  {
   "cell_type": "code",
   "execution_count": 9,
   "metadata": {},
   "outputs": [],
   "source": [
    "df = generate_dummy_data(products,customers)"
   ]
  },
  {
   "cell_type": "code",
   "execution_count": 19,
   "metadata": {},
   "outputs": [
    {
     "data": {
      "text/plain": [
       "<matplotlib.axes._subplots.AxesSubplot at 0x123c37550>"
      ]
     },
     "execution_count": 19,
     "metadata": {},
     "output_type": "execute_result"
    },
    {
     "data": {
      "image/png": "[encoded data removed]",
      "text/plain": [
       "<Figure size 432x288 with 1 Axes>"
      ]
     },
     "metadata": {
      "needs_background": "light"
     },
     "output_type": "display_data"
    }
   ],
   "source": [
    "# Total order value by products\n",
    "sns.barplot(\n",
    "    x='basket_size', \n",
    "    y='product', \n",
    "    data=pd.DataFrame(df.groupby('product')['basket_size'].sum().sort_values(ascending=False)).reset_index(), \n",
    "    palette=\"Blues_d\"\n",
    ")"
   ]
  },
  {
   "cell_type": "code",
   "execution_count": 20,
   "metadata": {},
   "outputs": [
    {
     "data": {
      "text/plain": [
       "<matplotlib.axes._subplots.AxesSubplot at 0x10e75e080>"
      ]
     },
     "execution_count": 20,
     "metadata": {},
     "output_type": "execute_result"
    },
    {
     "data": {
      "image/png": "[encoded data removed]",
      "text/plain": [
       "<Figure size 432x288 with 1 Axes>"
      ]
     },
     "metadata": {
      "needs_background": "light"
     },
     "output_type": "display_data"
    }
   ],
   "source": [
    "# Total order value by customers\n",
    "sns.barplot(\n",
    "    x='basket_size', \n",
    "    y='customer', \n",
    "    data=pd.DataFrame(df.groupby('customer')['basket_size'].sum().sort_values(ascending=False)).reset_index().head(10), \n",
    "    palette=\"Blues_d\"\n",
    ")"
   ]
  },
  {
   "cell_type": "markdown",
   "metadata": {},
   "source": [
    "# Data enrichtment (generate first oder dates and add)"
   ]
  },
  {
   "cell_type": "code",
   "execution_count": 21,
   "metadata": {},
   "outputs": [
    {
     "data": {
      "text/html": [
       "<div>\n",
       "<style scoped>\n",
       "    .dataframe tbody tr th:only-of-type {\n",
       "        vertical-align: middle;\n",
       "    }\n",
       "\n",
       "    .dataframe tbody tr th {\n",
       "        vertical-align: top;\n",
       "    }\n",
       "\n",
       "    .dataframe thead th {\n",
       "        text-align: right;\n",
       "    }\n",
       "</style>\n",
       "<table border=\"1\" class=\"dataframe\">\n",
       "  <thead>\n",
       "    <tr style=\"text-align: right;\">\n",
       "      <th></th>\n",
       "      <th>customer_first_order</th>\n",
       "    </tr>\n",
       "    <tr>\n",
       "      <th>customer</th>\n",
       "      <th></th>\n",
       "    </tr>\n",
       "  </thead>\n",
       "  <tbody>\n",
       "    <tr>\n",
       "      <th>babyish_andrea</th>\n",
       "      <td>2014-03-21</td>\n",
       "    </tr>\n",
       "    <tr>\n",
       "      <th>babyish_antonia</th>\n",
       "      <td>2016-02-15</td>\n",
       "    </tr>\n",
       "  </tbody>\n",
       "</table>\n",
       "</div>"
      ],
      "text/plain": [
       "                customer_first_order\n",
       "customer                            \n",
       "babyish_andrea            2014-03-21\n",
       "babyish_antonia           2016-02-15"
      ]
     },
     "execution_count": 21,
     "metadata": {},
     "output_type": "execute_result"
    }
   ],
   "source": [
    "customer_data = pd.DataFrame(df.groupby('customer')['order_date'].min())\n",
    "customer_data.columns = ['customer_first_order']\n",
    "customer_data.head(2)"
   ]
  },
  {
   "cell_type": "code",
   "execution_count": 22,
   "metadata": {},
   "outputs": [
    {
     "data": {
      "text/html": [
       "<div>\n",
       "<style scoped>\n",
       "    .dataframe tbody tr th:only-of-type {\n",
       "        vertical-align: middle;\n",
       "    }\n",
       "\n",
       "    .dataframe tbody tr th {\n",
       "        vertical-align: top;\n",
       "    }\n",
       "\n",
       "    .dataframe thead th {\n",
       "        text-align: right;\n",
       "    }\n",
       "</style>\n",
       "<table border=\"1\" class=\"dataframe\">\n",
       "  <thead>\n",
       "    <tr style=\"text-align: right;\">\n",
       "      <th></th>\n",
       "      <th>order_id</th>\n",
       "      <th>order_date</th>\n",
       "      <th>customer</th>\n",
       "      <th>product</th>\n",
       "      <th>order_size</th>\n",
       "      <th>customer_type</th>\n",
       "      <th>product_price</th>\n",
       "      <th>basket_size</th>\n",
       "    </tr>\n",
       "  </thead>\n",
       "  <tbody>\n",
       "    <tr>\n",
       "      <th>907</th>\n",
       "      <td>6VJPTSI9N5HFUNLI</td>\n",
       "      <td>2014-03-21</td>\n",
       "      <td>babyish_andrea</td>\n",
       "      <td>back_map</td>\n",
       "      <td>2</td>\n",
       "      <td>government</td>\n",
       "      <td>907</td>\n",
       "      <td>1814</td>\n",
       "    </tr>\n",
       "    <tr>\n",
       "      <th>657</th>\n",
       "      <td>IA6VLXYDKVSJU8WZ</td>\n",
       "      <td>2014-11-15</td>\n",
       "      <td>babyish_andrea</td>\n",
       "      <td>dorky_train</td>\n",
       "      <td>2</td>\n",
       "      <td>government</td>\n",
       "      <td>8988</td>\n",
       "      <td>17976</td>\n",
       "    </tr>\n",
       "    <tr>\n",
       "      <th>728</th>\n",
       "      <td>VR1K76YFPJDD8BCP</td>\n",
       "      <td>2016-02-15</td>\n",
       "      <td>babyish_antonia</td>\n",
       "      <td>badcalculating_airplane</td>\n",
       "      <td>1</td>\n",
       "      <td>company</td>\n",
       "      <td>606</td>\n",
       "      <td>606</td>\n",
       "    </tr>\n",
       "  </tbody>\n",
       "</table>\n",
       "</div>"
      ],
      "text/plain": [
       "             order_id order_date         customer                  product  \\\n",
       "907  6VJPTSI9N5HFUNLI 2014-03-21   babyish_andrea                 back_map   \n",
       "657  IA6VLXYDKVSJU8WZ 2014-11-15   babyish_andrea              dorky_train   \n",
       "728  VR1K76YFPJDD8BCP 2016-02-15  babyish_antonia  badcalculating_airplane   \n",
       "\n",
       "     order_size customer_type  product_price  basket_size  \n",
       "907           2    government            907         1814  \n",
       "657           2    government           8988        17976  \n",
       "728           1       company            606          606  "
      ]
     },
     "execution_count": 22,
     "metadata": {},
     "output_type": "execute_result"
    }
   ],
   "source": [
    "df.loc[df.customer.isin(list(customer_data.index[0:2]))].sort_values(by=['customer','order_date'])"
   ]
  },
  {
   "cell_type": "code",
   "execution_count": 23,
   "metadata": {},
   "outputs": [
    {
     "data": {
      "text/html": [
       "<div>\n",
       "<style scoped>\n",
       "    .dataframe tbody tr th:only-of-type {\n",
       "        vertical-align: middle;\n",
       "    }\n",
       "\n",
       "    .dataframe tbody tr th {\n",
       "        vertical-align: top;\n",
       "    }\n",
       "\n",
       "    .dataframe thead th {\n",
       "        text-align: right;\n",
       "    }\n",
       "</style>\n",
       "<table border=\"1\" class=\"dataframe\">\n",
       "  <thead>\n",
       "    <tr style=\"text-align: right;\">\n",
       "      <th></th>\n",
       "      <th>order_id</th>\n",
       "      <th>order_date</th>\n",
       "      <th>customer</th>\n",
       "      <th>product</th>\n",
       "      <th>order_size</th>\n",
       "      <th>customer_type</th>\n",
       "      <th>product_price</th>\n",
       "      <th>basket_size</th>\n",
       "      <th>customer_first_order</th>\n",
       "    </tr>\n",
       "  </thead>\n",
       "  <tbody>\n",
       "    <tr>\n",
       "      <th>0</th>\n",
       "      <td>ZFLIK94XYE9HKI18</td>\n",
       "      <td>2015-04-01</td>\n",
       "      <td>beautiful_rosia</td>\n",
       "      <td>capital_map</td>\n",
       "      <td>4</td>\n",
       "      <td>government</td>\n",
       "      <td>5227</td>\n",
       "      <td>20908</td>\n",
       "      <td>2015-04-01</td>\n",
       "    </tr>\n",
       "    <tr>\n",
       "      <th>1</th>\n",
       "      <td>735GTB55623C7SRJ</td>\n",
       "      <td>2017-05-02</td>\n",
       "      <td>hairy_carrie</td>\n",
       "      <td>badcalculating_airplane</td>\n",
       "      <td>2</td>\n",
       "      <td>private</td>\n",
       "      <td>606</td>\n",
       "      <td>1212</td>\n",
       "      <td>2017-05-02</td>\n",
       "    </tr>\n",
       "  </tbody>\n",
       "</table>\n",
       "</div>"
      ],
      "text/plain": [
       "           order_id order_date         customer                  product  \\\n",
       "0  ZFLIK94XYE9HKI18 2015-04-01  beautiful_rosia              capital_map   \n",
       "1  735GTB55623C7SRJ 2017-05-02     hairy_carrie  badcalculating_airplane   \n",
       "\n",
       "   order_size customer_type  product_price  basket_size customer_first_order  \n",
       "0           4    government           5227        20908           2015-04-01  \n",
       "1           2       private            606         1212           2017-05-02  "
      ]
     },
     "execution_count": 23,
     "metadata": {},
     "output_type": "execute_result"
    }
   ],
   "source": [
    "df = pd.merge(df,customer_data.reset_index(),on='customer')\n",
    "df.head(2)"
   ]
  },
  {
   "cell_type": "code",
   "execution_count": 24,
   "metadata": {},
   "outputs": [],
   "source": [
    "#determine if a order is a repeat order or first order\n",
    "df['type_of_order'] = np.where(df['order_date'] != df['customer_first_order'], 'repeat', 'first')"
   ]
  },
  {
   "cell_type": "code",
   "execution_count": 25,
   "metadata": {},
   "outputs": [],
   "source": [
    "def _fortmat_quarter(x):\n",
    "    quarter = (x.month-1)//3 + 1    \n",
    "    return str(x.year)+'-Q'+str(quarter)\n",
    "\n",
    "def _generate_cohorts(dataset, metric):\n",
    "    cohorts = dataset.groupby(['cohort','order_period']).agg({\n",
    "        'order_id':pd.Series.nunique,\n",
    "        'order_size':sum,\n",
    "        'basket_size':sum\n",
    "    })\n",
    "    cohorts.columns = ['number_of_orders','number_of_items_bought','total_order_value']\n",
    "    \n",
    "    cohorts = cohorts[metric].unstack(0)\n",
    "    \n",
    "    return cohorts\n",
    "\n",
    "def _generate_repeat_percentages(dataset,metric):\n",
    "    repeat_perc = dataset.groupby(['cohort', 'type_of_order']).agg({\n",
    "        'order_id':pd.Series.nunique,\n",
    "        'order_size':sum,\n",
    "        'basket_size':sum\n",
    "    }).unstack()\n",
    "\n",
    "    repeat_perc = repeat_perc.stack().T.stack(level=0).fillna(0)\n",
    "    repeat_perc['percentage repeat'] = repeat_perc['repeat']/repeat_perc.sum(axis=1)\n",
    "    repeat_perc = repeat_perc.unstack(level=0).iloc[:,-3:]\n",
    "    \n",
    "    repeat_perc.columns = ['Orders Repeat %', 'Items Bought Repeat %', 'Order Value Repeat %']\n",
    "\n",
    "    if metric == 'number_of_orders':\n",
    "        selection = 'Orders Repeat %'\n",
    "    if metric == 'number_of_items_bought':\n",
    "        selection = 'Items Bought Repeat %'\n",
    "    if metric == 'total_order_value':\n",
    "        selection = 'Order Value Repeat %'\n",
    "    if not selection:\n",
    "        raise NotImplementedError('No repeat figures for specified metric')\n",
    "\n",
    "    repeat_perc = repeat_perc[selection].reset_index()\n",
    "    \n",
    "    return repeat_perc, selection\n",
    "\n",
    "def generate_cohort_analysis(df, metric, record_type='all', period_agg='quarterly', fig=True, size=10, save_fig=True):\n",
    "    \"\"\"\n",
    "    For metric use 'number_of_orders', 'number_of_items_bought'  or 'total_order_value'\n",
    "    For record_type use 'all' or specific customer_type ['private','company','government']\n",
    "    no_fig controlls the output of a figure, by default True (i.e. no figure)\n",
    "    \"\"\"\n",
    "\n",
    "    dataset = df.copy()\n",
    "    if record_type != 'all':\n",
    "        dataset = df[df.customer_type == record_type].copy()\n",
    "        \n",
    "    # format dates (i.e. map customers into their cohort and orders into the respective order period)\n",
    "    if period_agg=='quarterly':\n",
    "        dataset['cohort'] = dataset['customer_first_order'].apply(lambda x: _fortmat_quarter(x))\n",
    "        dataset['order_period'] = dataset['order_date'].apply(lambda x: _fortmat_quarter(x))\n",
    "    elif period_agg=='monthly':\n",
    "        dataset['cohort'] = dataset['customer_first_order'].apply(lambda x: x.strftime('%Y-%m'))\n",
    "        dataset['order_period'] = dataset['order_date'].apply(lambda x: x.strftime('%Y-%m'))\n",
    "    else:\n",
    "        raise NotImplementedError(f'period_agg: {period_agg} is not implemented')\n",
    "        \n",
    "    # generate cohorts\n",
    "    cohorts = _generate_cohorts(dataset,metric)\n",
    "\n",
    "    # generate new accounts data\n",
    "    cohort_group_size = dataset.groupby('cohort').agg({'customer': pd.Series.nunique})\n",
    "    new_accs = cohort_group_size.reset_index()\n",
    "    new_accs.columns = ['cohort', 'New Accounts']\n",
    "\n",
    "    # generate repeat data\n",
    "    repeat_perc, selection = _generate_repeat_percentages(dataset,metric)\n",
    "\n",
    "    # returns the data and does not plot anything\n",
    "    if not fig:\n",
    "        return (cohorts.T.join(new_accs.set_index('cohort')).fillna(0))\n",
    "    \n",
    "    #### Plot the Data ####\n",
    "    # create the figures grid\n",
    "    fig, (ax1, ax2, ax3) = plt.subplots(1, 3, figsize=(16, 7), gridspec_kw={'width_ratios': (1, 14, 1)})\n",
    "    sns.despine(left=True, bottom=True, right=True)\n",
    "    # plot new accounts\n",
    "    Accounts = sns.barplot(x=\"New Accounts\", y='cohort', data=new_accs, palette=\"Blues\", ax=ax1)\n",
    "\n",
    "    # plot retention matrix\n",
    "    Heatmap = sns.heatmap(cohorts.T,\n",
    "                          cmap=\"Blues\",\n",
    "                          annot=True,\n",
    "                          fmt=\".0f\",\n",
    "                          annot_kws={\"size\": size},\n",
    "                          cbar=False,\n",
    "                          yticklabels=False,\n",
    "                          ax=ax2)\n",
    "\n",
    "    title = 'Retention Matrix for \"{}\" - for Account Type \"{}\"'.format(metric, record_type)\n",
    "    Heatmap.set_title(title)\n",
    "    Heatmap.yaxis.get_label().set_visible(False)\n",
    "    Heatmap.set_xlabel('order_period')\n",
    "\n",
    "    # plot repeat table\n",
    "    Repeats = sns.barplot(x=selection, y='cohort', data=repeat_perc, palette=\"Blues\", ax=ax3)\n",
    "    # removes y-axis label\n",
    "    Repeats.yaxis.get_label().set_visible(False)\n",
    "    # removes y-axis tickl labels\n",
    "    Repeats.set(yticklabels=[])\n",
    "    # removes y-axis ticks themselves\n",
    "    Repeats.set(yticks=[])\n",
    "    vals = Repeats.get_xticks()\n",
    "    Repeats.set_xticklabels(['{:,.0f}%'.format(x * 100) for x in vals])\n",
    "\n",
    "\n",
    "    # final layout touches\n",
    "\n",
    "    plt.tight_layout()\n",
    "\n",
    "    # saves the figure\n",
    "    if save_fig:\n",
    "        fig = Heatmap.get_figure()\n",
    "        fig.savefig(metric+'RetentionMatrix'+record_type+'.png', bbox_inches='tight', dpi=600)\n",
    "\n"
   ]
  },
  {
   "cell_type": "code",
   "execution_count": 26,
   "metadata": {},
   "outputs": [
    {
     "data": {
      "image/png": "[encoded data removed]",
      "text/plain": [
       "<Figure size 1152x504 with 3 Axes>"
      ]
     },
     "metadata": {
      "needs_background": "light"
     },
     "output_type": "display_data"
    }
   ],
   "source": [
    "generate_cohort_analysis(df,'number_of_orders',record_type='private',period_agg='quarterly',fig=True, size=12)"
   ]
  }
 ],
 "metadata": {
  "kernelspec": {
   "display_name": "Python (py363)",
   "language": "python",
   "name": "py363"
  },
  "language_info": {
   "codemirror_mode": {
    "name": "ipython",
    "version": 3
   },
   "file_extension": ".py",
   "mimetype": "text/x-python",
   "name": "python",
   "nbconvert_exporter": "python",
   "pygments_lexer": "ipython3",
   "version": "3.6.3"
  }
 },
 "nbformat": 4,
 "nbformat_minor": 2
}
